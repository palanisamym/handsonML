{
  "cells": [
    {
      "cell_type": "markdown",
      "metadata": {
        "id": "HqGnWMEP-8qe"
      },
      "source": [
        "# Machine Learning Notebooks\n",
        "\n",
        "*Welcome to the Machine Learning Notebooks!*\n",
        "\n",
        "[Prerequisites](#Prerequisites) (see below)\n",
        "\n",
        "<table align=\"left\">\n",
        "  <td>\n",
        "    <a href=\"https://colab.research.google.com/github/ageron/handson-mlp/blob/main/index.ipynb\" target=\"_parent\"><img src=\"https://colab.research.google.com/assets/colab-badge.svg\" alt=\"Open In Colab\"/></a>\n",
        "  </td>\n",
        "  <td>\n",
        "    <a target=\"_blank\" href=\"https://homl.info/kagglep/\"><img src=\"https://kaggle.com/static/images/open-in-kaggle.svg\" /></a>\n",
        "  </td>\n",
        "</table>"
      ]
    },
    {
      "cell_type": "markdown",
      "metadata": {
        "id": "jSoroW2B-8qh"
      },
      "source": [
        "## Notebooks\n",
        "\n",
        "Chapters:\n",
        "\n",
        "* 1. [The Machine Learning landscape](01_the_machine_learning_landscape.ipynb)\n",
        "* 2. [End-to-end Machine Learning project](02_end_to_end_machine_learning_project.ipynb)\n",
        "* 3. [Classification](03_classification.ipynb)\n",
        "* 4. [Training Models](04_training_linear_models.ipynb)\n",
        "* 5. [Decision Trees](05_decision_trees.ipynb)\n",
        "* 6. [Ensemble Learning and Random Forests](06_ensemble_learning_and_random_forests.ipynb)\n",
        "* 7. [Dimensionality Reduction](07_dimensionality_reduction.ipynb)\n",
        "* 8. [Unsupervised Learning Techniques](08_unsupervised_learning.ipynb)\n",
        "* 9. [Introduction to Artificial Neural Networks](09_artificial_neural_networks.ipynb)\n",
        "* 10. [Building Neural Networks with PyTorch](10_neural_nets_with_pytorch.ipynb)\n",
        "* 11. [Training Deep Neural Networks](11_training_deep_neural_networks.ipynb)\n",
        "* 12. [Deep Computer Vision Using Convolutional Neural Networks](12_deep_computer_vision_with_cnns.ipynb)\n",
        "* 13. [Processing Sequences Using RNNs and CNNs](13_processing_sequences_using_rnns_and_cnns.ipynb)\n",
        "* 14. [Natural Language Processing with RNNs and Attention](14_nlp_with_rnns_and_attention.ipynb)\n",
        "* 15. [Transformers for Natural Language Processing and Chatbots](15_transformers_for_nlp_and_chatbots.ipynb)\n",
        "* 16. [Vision and Multimodal Transformers](16_vision_and_multimodal_transformers.ipynb)\n",
        "* 17. [Speeding Up Transformers](17_speeding_up_transformers.ipynb)\n",
        "* 18. [Autoencoders, GANs, and Diffusion Models](16_autoencoders_gans_and_diffusion_models.ipynb)\n",
        "* 19. [Reinforcement Learning](17_reinforcement_learning.ipynb)"
      ]
    },
    {
      "cell_type": "markdown",
      "metadata": {
        "id": "BzDNcDC2-8qh"
      },
      "source": [
        "Appendices:\n",
        "\n",
        "* A. [Autodiff](Appendix_A_autodiff.ipynb)\n",
        "* B. [Mixed Precision and Quantization](Appendix_B_mixed_precision_and_quantization.ipynb)\n",
        "* C. [Support Vector Machines](Appendix_C_support_vector_machines.ipynb)\n",
        "* D. [Relative Positional Encoding](Appendix_D_relative_positional_encoding.ipynb)\n",
        "* E. [State-Space Models](Appendix_E_state_space_models.ipynb)"
      ]
    },
    {
      "cell_type": "markdown",
      "metadata": {
        "id": "0iKc9pYM-8qh"
      },
      "source": [
        "## Scientific Python tutorials\n",
        "* [NumPy](tools_numpy.ipynb)\n",
        "* [Matplotlib](tools_matplotlib.ipynb)\n",
        "* [Pandas](tools_pandas.ipynb)"
      ]
    },
    {
      "cell_type": "markdown",
      "metadata": {
        "id": "vgfe-VcW-8qi"
      },
      "source": [
        "## Math Tutorials\n",
        "* [Linear Algebra](math_linear_algebra.ipynb)\n",
        "* [Differential Calculus](math_differential_calculus.ipynb)"
      ]
    },
    {
      "cell_type": "markdown",
      "metadata": {
        "id": "dftfUwa5-8qi"
      },
      "source": [
        "## Extra Material\n",
        "* [A Few Extra ANN Architectures](extra_ann_architectures.ipynb)\n"
      ]
    },
    {
      "cell_type": "markdown",
      "metadata": {
        "id": "o9yfkHou-8qi"
      },
      "source": [
        "## Misc.\n",
        "* [Equations](book_equations.pdf) (list of equations in the book)"
      ]
    },
    {
      "cell_type": "markdown",
      "metadata": {
        "id": "pp18UA4n-8qi"
      },
      "source": [
        "## Prerequisites"
      ]
    },
    {
      "cell_type": "markdown",
      "metadata": {
        "id": "3LWhe34n-8qi"
      },
      "source": [
        "### To understand\n",
        "* **Python** – you don't need to be an expert python programmer, but you do need to know the basics. If you don't, the official [Python tutorial](https://docs.python.org/3/tutorial/) is a good place to start.\n",
        "* **Scientific Python** – We will be using a few popular python libraries, in particular NumPy, matplotlib and pandas. If you are not familiar with these libraries, you should probably start by going through the tutorials in the Tools section (especially NumPy).\n",
        "* **Math** – We will also use some notions of Linear Algebra, Calculus, Statistics and Probability theory. You should be able to follow along if you learned these in the past as it won't be very advanced, but if you don't know about these topics or you need a refresher then go through the appropriate introduction in the Math section."
      ]
    },
    {
      "cell_type": "markdown",
      "metadata": {
        "id": "-c7jBk3K-8qj"
      },
      "source": [
        "### To run the examples\n",
        "* **Jupyter** – These notebooks are based on Jupyter. You can run these notebooks in just one click using Google Colab (or another hosted platform such as Kaggle, Binder, Deepnote or Colaboratory): no installation required. You can also just view them using Jupyter.org's viewer, or you can install everything on your machine, as you prefer. Check out the [home page](https://github.com/ageron/handson-mlp/) for more details."
      ]
    },
    {
      "cell_type": "code",
      "execution_count": null,
      "metadata": {
        "id": "PbjyqUOb-8qj"
      },
      "outputs": [],
      "source": []
    }
  ],
  "metadata": {
    "kernelspec": {
      "display_name": "Python 3",
      "language": "python",
      "name": "python3"
    },
    "language_info": {
      "codemirror_mode": {
        "name": "ipython",
        "version": 3
      },
      "file_extension": ".py",
      "mimetype": "text/x-python",
      "name": "python",
      "nbconvert_exporter": "python",
      "pygments_lexer": "ipython3",
      "version": "3.9.10"
    },
    "colab": {
      "provenance": []
    }
  },
  "nbformat": 4,
  "nbformat_minor": 0
}